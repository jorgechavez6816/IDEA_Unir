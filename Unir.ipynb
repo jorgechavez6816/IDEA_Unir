{
 "cells": [
  {
   "cell_type": "code",
   "execution_count": 2,
   "metadata": {},
   "outputs": [],
   "source": [
    "import win32com.client as win32ComClient\n",
    "\n",
    "if __name__ == \"__main__\":\n",
    "    try:\n",
    "        dbName = \"Ejemplo-Detalle de ventas.IMD\"\n",
    "        criteria = \"\"\n",
    "        idea = win32ComClient.Dispatch(dispatch=\"Idea.IdeaClient\")\n",
    "        db = idea.OpenDatabase(dbName)\n",
    "        task = db.JoinDatabase()\n",
    "        task.FileToJoin(\"Ejemplo-Clientes.IMD\")\n",
    "        task.IncludeAllPFields\n",
    "        task.IncludeAllSFields\n",
    "        task.AddMatchKey(\"NUM_CLI\", \"NUM_CLI\", \"A\")\n",
    "        task.criteria = \"\"\n",
    "        task.CreateVirtualDatabase= False\n",
    "        resultDbName = \"Tabla_unida01.IMD\"\n",
    "        task.PerformTask(resultDbName, \"\", 0)\n",
    "        idea.OpenDatabase(resultDbName)\n",
    "    finally:\n",
    "        task = None\n",
    "        db = None\n",
    "        idea = None\n",
    "\n",
    "#En línea de task.PerformTask, en el último valor considerar:\n",
    "# ID Valor Constante Descripción \n",
    "# 0 WI_JOIN_MATCH_ONLY =Sólo coincidencias \n",
    "# 1 WI_JOIN_ALL_IN_PRIM =Todos registros en archivo primario \n",
    "# 2 WI_JOIN_ALL_REC =Registros en ambos archivos \n",
    "# 3 WI_JOIN_NOC_SEC_MATCH =Registros sin coincidencias secundarias \n",
    "# 4 WI_JOIN_NOC_PRI_MATCH =Registros sin coincidencias primarias \n",
    "\n"
   ]
  },
  {
   "cell_type": "code",
   "execution_count": null,
   "metadata": {},
   "outputs": [],
   "source": []
  }
 ],
 "metadata": {
  "kernelspec": {
   "display_name": "Python 3",
   "language": "python",
   "name": "python3"
  },
  "language_info": {
   "codemirror_mode": {
    "name": "ipython",
    "version": 3
   },
   "file_extension": ".py",
   "mimetype": "text/x-python",
   "name": "python",
   "nbconvert_exporter": "python",
   "pygments_lexer": "ipython3",
   "version": "3.7.6"
  }
 },
 "nbformat": 4,
 "nbformat_minor": 4
}
